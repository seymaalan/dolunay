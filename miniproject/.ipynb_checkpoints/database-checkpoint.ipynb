{
 "cells": [
  {
   "cell_type": "markdown",
   "id": "87848d54-f1b5-439a-b38b-b17a9aed3fad",
   "metadata": {},
   "source": [
    "## API"
   ]
  },
  {
   "cell_type": "code",
   "execution_count": 9,
   "id": "4bbf7de4-4e55-44ad-87d6-3cd1a2e37b0c",
   "metadata": {},
   "outputs": [],
   "source": [
    "import requests\n",
    "import json"
   ]
  },
  {
   "cell_type": "code",
   "execution_count": 19,
   "id": "9d675dec-7b6d-43f7-ae76-64ae73f01217",
   "metadata": {},
   "outputs": [
    {
     "name": "stdout",
     "output_type": "stream",
     "text": [
      "200\n"
     ]
    }
   ],
   "source": [
    "name_of_city= \"Ankara\"\n",
    "    parameters={\n",
    "        \"countryCode\":\"TUR\",\n",
    "        \"city\":name_of_city\n",
    "    }\n",
    "url_for_all_Turkiye_events=\"https://app.ticketmaster.com/discovery/v2/events.json?countryCode=TUR&city={name_of_city}&apikey=Ca6RdLJR7N6gvLFEtsJL6TMALZfYzesp\"\n",
    "url=\"https://app.ticketmaster.com/discovery/v2/events.json?apikey=Ca6RdLJR7N6gvLFEtsJL6TMALZfYzesp\"\n",
    "response = requests.get(url,parameters)\n",
    "print(response.status_code)"
   ]
  },
  {
   "cell_type": "code",
   "execution_count": 17,
   "id": "8b24a8ec-d26e-4e63-97ed-fc41e686cc0d",
   "metadata": {},
   "outputs": [
    {
     "name": "stdout",
     "output_type": "stream",
     "text": [
      "{\"_links\": {\"self\": {\"href\": \"/discovery/v2/events.json?countryCode=TUR\"}}, \"page\": {\"number\": 0, \"size\": 20, \"totalElements\": 0, \"totalPages\": 0}}\n"
     ]
    }
   ],
   "source": [
    "def jprint(obj):\n",
    "    # create a formatted string of the Python JSON object\n",
    "    text = json.dumps(obj, sort_keys=True, indent=4)\n",
    "    print(text)\n",
    "jprint(response.json())"
   ]
  },
  {
   "cell_type": "code",
   "execution_count": null,
   "id": "2fa36eda-3ca9-4e58-97f5-ba905d4f20be",
   "metadata": {},
   "outputs": [],
   "source": [
    "def  fetch_events(name_of_city):\n",
    "    #url_givenCityInTR=\"https://app.ticketmaster.com/discovery/v2/events.json?countryCode=TUR&city={name_of_city}&apikey=Ca6RdLJR7N6gvLFEtsJL6TMALZfYzesp\"\n",
    "    url=\"https://app.ticketmaster.com/discovery/v2/events.json?apikey=Ca6RdLJR7N6gvLFEtsJL6TMALZfYzesp\"\n",
    "    list_of_JSON=[]\n",
    "    parameters={\n",
    "        \"countryCode\":\"TUR\",\n",
    "        \"city\":name_of_city\n",
    "    }\n",
    "    response = requests.get(url,parameters)\n",
    "    data = response.json()\n",
    "    for event in data.get(\"events\", []):\n",
    "        filtered_event = {\n",
    "            \"name\": event.get(\"name\"),\n",
    "            \"genre\": event.get(\"classifications\", [{}])[0].get(\"genre\", {}).get(\"name\"),\n",
    "            \"segment\": event.get(\"classifications\", [{}])[0].get(\"segment\", {}).get(\"name\"),\n",
    "            \"address\": event.get(\"_embedded\", {}).get(\"venues\", [{}])[0].get(\"address\", {}).get(\"line1\"),\n",
    "            \"localdate\": event.get(\"dates\", {}).get(\"start\", {}).get(\"localDate\"),\n",
    "            \"localtime\": event.get(\"dates\", {}).get(\"start\", {}).get(\"localTime\"),\n",
    "            \"url\": event.get(\"url\")\n",
    "            }\n",
    "\n",
    "            # Add the filtered event to the list\n",
    "            list_of_JSON.append(filtered_event)    \n",
    "    \n",
    "    return #Json of the listed events and their filtered information (name,genre.name,segment.name,address,localdate,localtime,url)"
   ]
  }
 ],
 "metadata": {
  "kernelspec": {
   "display_name": "Python 3 (ipykernel)",
   "language": "python",
   "name": "python3"
  },
  "language_info": {
   "codemirror_mode": {
    "name": "ipython",
    "version": 3
   },
   "file_extension": ".py",
   "mimetype": "text/x-python",
   "name": "python",
   "nbconvert_exporter": "python",
   "pygments_lexer": "ipython3",
   "version": "3.12.0"
  }
 },
 "nbformat": 4,
 "nbformat_minor": 5
}
