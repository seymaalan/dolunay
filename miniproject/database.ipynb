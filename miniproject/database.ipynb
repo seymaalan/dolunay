{
 "cells": [
  {
   "cell_type": "markdown",
   "id": "87848d54-f1b5-439a-b38b-b17a9aed3fad",
   "metadata": {},
   "source": [
    "## API"
   ]
  },
  {
   "cell_type": "code",
   "execution_count": 1,
   "id": "4bbf7de4-4e55-44ad-87d6-3cd1a2e37b0c",
   "metadata": {},
   "outputs": [],
   "source": [
    "import requests\n",
    "import json"
   ]
  },
  {
   "cell_type": "code",
   "execution_count": 23,
   "id": "2fa36eda-3ca9-4e58-97f5-ba905d4f20be",
   "metadata": {},
   "outputs": [],
   "source": [
    "def  fetch_events(name_of_city):\n",
    "\n",
    "    url=\"https://app.ticketmaster.com/discovery/v2/events.json?\"\n",
    "    list_of_JSON=[]\n",
    "    parameters={\n",
    "        \"countryCode\":\"TR\",\n",
    "        \"city\":name_of_city,\n",
    "        \"apikey\":\"Ca6RdLJR7N6gvLFEtsJL6TMALZfYzesp\"\n",
    "    }\n",
    "    \n",
    "    response = requests.get(url,parameters)\n",
    "    python_dict = response.json()\n",
    "    # if entered city name is not valid\n",
    "    if len(python_dict) != 3:\n",
    "        print(\"the entered city name is not valid\")\n",
    "        return[]\n",
    "        \n",
    "    for event in python_dict.get(\"_embedded\").get(\"events\"):\n",
    "        filtered_event = {\n",
    "            \"name\": event.get(\"name\"),\n",
    "            \"genre\": event.get(\"classifications\", [{}])[0].get(\"genre\", {}).get(\"name\"),\n",
    "            \"segment\": event.get(\"classifications\", [{}])[0].get(\"segment\", {}).get(\"name\"),\n",
    "            \"address\": event.get(\"_embedded\", {}).get(\"venues\", [{}])[0].get(\"address\", {}).get(\"line1\"),\n",
    "            \"city\": event.get(\"_embedded\", {}).get(\"venues\", [{}])[0].get(\"city\", {}).get(\"name\"),\n",
    "            \"localdate\": event.get(\"dates\", {}).get(\"start\", {}).get(\"localDate\"),\n",
    "            \"localtime\": event.get(\"dates\", {}).get(\"start\", {}).get(\"localTime\"),\n",
    "            \"url\": event.get(\"url\")\n",
    "        }\n",
    "        \n",
    "        list_of_JSON.append(filtered_event)    \n",
    "    \n",
    "    return  list_of_JSON # Json of the listed events and their filtered information"
   ]
  },
  {
   "cell_type": "code",
   "execution_count": 24,
   "id": "7c3c0c3d-17bd-4c38-8ffb-2c54c7da3ef9",
   "metadata": {},
   "outputs": [
    {
     "name": "stdout",
     "output_type": "stream",
     "text": [
      "the entered city name is not valid\n"
     ]
    },
    {
     "data": {
      "text/plain": [
       "[]"
      ]
     },
     "execution_count": 24,
     "metadata": {},
     "output_type": "execute_result"
    }
   ],
   "source": [
    "fetch_events(\"ık\")"
   ]
  },
  {
   "cell_type": "code",
   "execution_count": 25,
   "id": "badbecad-5936-4679-905f-7a39e12f51fe",
   "metadata": {},
   "outputs": [
    {
     "name": "stdout",
     "output_type": "stream",
     "text": [
      "[{'name': 'Fahrenheit 451', 'genre': 'Theatre', 'segment': 'Arts & Theatre', 'address': 'Güneş Sok. No: 21', 'city': 'Ankara', 'localdate': '2024-02-13', 'localtime': '20:30:00', 'url': 'https://www.biletix.com/performance/36S36/001/TURKIYE/tr'}, {'name': 'Tayfa Band', 'genre': 'Rock', 'segment': 'Music', 'address': None, 'city': 'Ankara', 'localdate': '2024-02-12', 'localtime': '21:00:00', 'url': 'https://www.biletix.com/performance/3RX21/001/TURKIYE/tr'}, {'name': 'Bir Delinin Hatıra Defteri - Edip Tüfekçi', 'genre': 'Theatre', 'segment': 'Arts & Theatre', 'address': 'Ergazi Mh Batı Blv Nevadium Konutları Altı', 'city': 'Ankara', 'localdate': '2024-02-13', 'localtime': '20:00:00', 'url': 'https://www.biletix.com/performance/3KYCS/002/TURKIYE/tr'}, {'name': 'Hüsnü Arkan', 'genre': 'Alternative', 'segment': 'Music', 'address': 'Urankent Girişi, No: 50', 'city': 'Ankara', 'localdate': '2024-02-12', 'localtime': '20:30:00', 'url': 'https://www.biletix.com/performance/3KY05/001/TURKIYE/tr'}, {'name': 'Baturay Özdemir - Stand Up', 'genre': 'Comedy', 'segment': 'Arts & Theatre', 'address': 'Bilkent Center', 'city': 'Ankara', 'localdate': '2024-02-12', 'localtime': '20:30:00', 'url': 'https://www.biletix.com/performance/3BO04/001/TURKIYE/tr'}, {'name': 'Ezginin Günlüğü Sevgililer Günü Konseri', 'genre': 'Pop', 'segment': 'Music', 'address': 'Emniyet, Gazeteci Yazar Muammer Yaşar Bostancı Sk., 06560', 'city': 'Ankara', 'localdate': '2024-02-13', 'localtime': '20:00:00', 'url': 'https://www.biletix.com/performance/2HSKF/001/TURKIYE/tr'}, {'name': \"Freud'un İnsanları\", 'genre': 'Theatre', 'segment': 'Arts & Theatre', 'address': 'Remzi Oğuz Arık mah. Paris Cad. 49B/A', 'city': 'Ankara', 'localdate': '2024-02-13', 'localtime': '20:00:00', 'url': 'https://www.biletix.com/performance/2BAOV/001/TURKIYE/tr'}, {'name': 'Bab-ı Mizah - Doğaçlama Bar Tiyatro', 'genre': 'Comedy', 'segment': 'Arts & Theatre', 'address': None, 'city': 'Ankara', 'localdate': '2024-02-12', 'localtime': '20:00:00', 'url': 'https://www.biletix.com/performance/32110/001/TURKIYE/tr'}, {'name': \"Notre Dame'in Kamburu Müzikali\", 'genre': 'Theatre', 'segment': 'Arts & Theatre', 'address': 'Emniyet, Gazeteci Yazar Muammer Yaşar Bostancı Sk., 06560', 'city': 'Ankara', 'localdate': '2024-02-12', 'localtime': '20:30:00', 'url': 'https://www.biletix.com/performance/3B106/001/TURKIYE/tr'}, {'name': 'Yol Boyunca', 'genre': 'Alternative', 'segment': 'Music', 'address': 'Tunus Cad. No:66 Kavaklıdere', 'city': 'Ankara', 'localdate': '2024-02-13', 'localtime': '21:30:00', 'url': 'https://www.biletix.com/performance/3E836/001/TURKIYE/tr'}, {'name': 'Stap', 'genre': 'Alternative', 'segment': 'Music', 'address': 'Tunus Cad. No:14/A', 'city': 'Ankara', 'localdate': '2024-02-12', 'localtime': '21:00:00', 'url': 'https://www.biletix.com/performance/3K941/001/TURKIYE/tr'}, {'name': 'Altı Üstü Komedi', 'genre': 'Alternative', 'segment': 'Music', 'address': 'İvedik Caddesi Yenimahalle Belediyesi yanı Yenimahalle /Ankara', 'city': 'Ankara', 'localdate': '2024-02-12', 'localtime': '20:00:00', 'url': 'https://www.biletix.com/performance/3UC01/001/TURKIYE/tr'}, {'name': 'Tahsin Hasoğlu', 'genre': 'Comedy', 'segment': 'Arts & Theatre', 'address': 'Urankent Girişi, No: 50', 'city': 'Ankara', 'localdate': '2024-02-12', 'localtime': '20:30:00', 'url': 'https://www.biletix.com/performance/3T666/001/TURKIYE/tr'}, {'name': 'Mahsun Kırmızıgül', 'genre': 'Folk', 'segment': 'Music', 'address': 'İncek, Turgut Özal Blv. NO: 34, 06830', 'city': 'Ankara', 'localdate': '2024-02-14', 'localtime': '22:30:00', 'url': 'https://www.biletix.com/performance/3ET49/001/TURKIYE/tr'}, {'name': 'Fahrenheit 451', 'genre': 'Theatre', 'segment': 'Arts & Theatre', 'address': 'Güneş Sok. No: 21', 'city': 'Ankara', 'localdate': '2024-02-14', 'localtime': '20:30:00', 'url': 'https://www.biletix.com/performance/36S37/001/TURKIYE/tr'}, {'name': 'Ege Kayacan ve Eda Aytekin Manitoloji İnteraktif Muhabbet', 'genre': 'Comedy', 'segment': 'Arts & Theatre', 'address': 'Güvenevler, Cinnah Caddesi, Farabi Sk. 39/A, 06690', 'city': 'Ankara', 'localdate': '2024-02-14', 'localtime': '20:00:00', 'url': 'https://www.biletix.com/performance/3FM30/001/TURKIYE/tr'}, {'name': 'Pandami Music', 'genre': 'Alternative', 'segment': 'Music', 'address': 'Kızılırmak Cad. No: 14', 'city': 'Ankara', 'localdate': '2024-02-14', 'localtime': '21:00:00', 'url': 'https://www.biletix.com/performance/3VV21/001/TURKIYE/tr'}, {'name': 'Nev', 'genre': 'Pop', 'segment': 'Music', 'address': None, 'city': 'Ankara', 'localdate': '2024-02-14', 'localtime': '21:00:00', 'url': 'https://www.biletix.com/performance/3RX17/001/TURKIYE/tr'}, {'name': 'Haybeden Gerçeküstü Aşk', 'genre': 'Miscellaneous Theatre', 'segment': 'Arts & Theatre', 'address': 'Ergazi Mh Batı Blv Nevadium Konutları Altı', 'city': 'Ankara', 'localdate': '2024-02-14', 'localtime': '20:00:00', 'url': 'https://www.biletix.com/performance/3KYBO/002/TURKIYE/tr'}, {'name': 'Haybeden Gerçeküstü Aşk', 'genre': 'Miscellaneous Theatre', 'segment': 'Arts & Theatre', 'address': 'Ergazi Mh Batı Blv Nevadium Konutları Altı', 'city': 'Ankara', 'localdate': '2024-02-14', 'localtime': '18:00:00', 'url': 'https://www.biletix.com/performance/3KYBO/001/TURKIYE/tr'}]\n"
     ]
    }
   ],
   "source": [
    "print(fetch_events(\"ankara\"))"
   ]
  },
  {
   "cell_type": "code",
   "execution_count": 17,
   "id": "f45b53da-89a9-4ff3-931e-d901d6b435bf",
   "metadata": {},
   "outputs": [],
   "source": [
    "import csv"
   ]
  },
  {
   "cell_type": "code",
   "execution_count": 55,
   "id": "c14e72ec-441b-4e16-8c2f-b00736bf2ef6",
   "metadata": {},
   "outputs": [],
   "source": [
    "def convert_to_csv(list_of_json,file_path):\n",
    "    \n",
    "    # Update 'name' to 'event_name' in each dictionary\n",
    "    for item in list_of_json:\n",
    "        if 'name' in item:\n",
    "            item['event_name'] = item.pop('name')\n",
    "            \n",
    "    # Get headers from the first dictionary\n",
    "    headers = list(list_of_json[0].keys())\n",
    "\n",
    "    # make event_name the first key of the dict\n",
    "    if 'event_name' in headers:\n",
    "        headers.remove('event_name')\n",
    "        headers.insert(0, 'event_name')\n",
    "        \n",
    "    # transfer jsons to csv file        \n",
    "    with open(file_path, 'w', newline='') as csvfile:\n",
    "        writer = csv.DictWriter(csvfile, fieldnames=headers)\n",
    "        \n",
    "        # Write headers\n",
    "        writer.writeheader()\n",
    "\n",
    "        # Write JSON data\n",
    "        for item in list_of_json:\n",
    "            writer.writerow(item)"
   ]
  },
  {
   "cell_type": "code",
   "execution_count": 57,
   "id": "dafbed61-d4c3-40af-932e-c1e6b287c18e",
   "metadata": {},
   "outputs": [],
   "source": [
    "convert_to_csv(fetch_events(\"ankara\"),\"ankaraEvents.csv\")"
   ]
  },
  {
   "cell_type": "code",
   "execution_count": null,
   "id": "71bc5327-3c80-4e6f-bbc5-098194158f87",
   "metadata": {},
   "outputs": [],
   "source": []
  }
 ],
 "metadata": {
  "kernelspec": {
   "display_name": "Python 3 (ipykernel)",
   "language": "python",
   "name": "python3"
  },
  "language_info": {
   "codemirror_mode": {
    "name": "ipython",
    "version": 3
   },
   "file_extension": ".py",
   "mimetype": "text/x-python",
   "name": "python",
   "nbconvert_exporter": "python",
   "pygments_lexer": "ipython3",
   "version": "3.12.0"
  }
 },
 "nbformat": 4,
 "nbformat_minor": 5
}
