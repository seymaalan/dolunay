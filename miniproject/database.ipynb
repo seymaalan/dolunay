{
 "cells": [
  {
   "cell_type": "markdown",
   "id": "87848d54-f1b5-439a-b38b-b17a9aed3fad",
   "metadata": {},
   "source": [
    "## API"
   ]
  },
  {
   "cell_type": "code",
   "execution_count": 22,
   "id": "4bbf7de4-4e55-44ad-87d6-3cd1a2e37b0c",
   "metadata": {},
   "outputs": [],
   "source": [
    "import requests\n",
    "import json"
   ]
  },
  {
   "cell_type": "code",
   "execution_count": 103,
   "id": "2fa36eda-3ca9-4e58-97f5-ba905d4f20be",
   "metadata": {},
   "outputs": [],
   "source": [
    "def  fetch_events(name_of_city):\n",
    "\n",
    "    url=\"https://app.ticketmaster.com/discovery/v2/events.json?\"\n",
    "    list_of_JSON=[]\n",
    "    parameters={\n",
    "        \"countryCode\":\"TR\",\n",
    "        \"city\":name_of_city,\n",
    "        \"apikey\":\"Ca6RdLJR7N6gvLFEtsJL6TMALZfYzesp\"\n",
    "    }\n",
    "    \n",
    "    response = requests.get(url,parameters)\n",
    "    python_dict = response.json()\n",
    "    # if entered city name is not valid\n",
    "    if len(python_dict) != 3:\n",
    "        print(\"the entered city name is not valid\")\n",
    "        return[]\n",
    "        \n",
    "    for event in python_dict.get(\"_embedded\").get(\"events\"):\n",
    "        filtered_event = {\n",
    "            \"name\": event.get(\"name\"),\n",
    "            \"genre\": event.get(\"classifications\", [{}])[0].get(\"genre\", {}).get(\"name\"),\n",
    "            \"segment\": event.get(\"classifications\", [{}])[0].get(\"segment\", {}).get(\"name\"),\n",
    "            \"address\": event.get(\"_embedded\", {}).get(\"venues\", [{}])[0].get(\"address\", {}).get(\"line1\"),\n",
    "            \"city\": event.get(\"_embedded\", {}).get(\"venues\", [{}])[0].get(\"city\", {}).get(\"name\"),\n",
    "            \"localdate\": event.get(\"dates\", {}).get(\"start\", {}).get(\"localDate\"),\n",
    "            \"localtime\": event.get(\"dates\", {}).get(\"start\", {}).get(\"localTime\"),\n",
    "            \"url\": event.get(\"url\")\n",
    "        }\n",
    "        \n",
    "        # conver python dictionary to a json string\n",
    "        json_string=json.dumps(filtered_event,indent=2,ensure_ascii=False)\n",
    "        # Add the filtered event to the list\n",
    "        list_of_JSON.append(json_string)    \n",
    "    \n",
    "    return  list_of_JSON #Json of the listed events and their filtered information"
   ]
  },
  {
   "cell_type": "code",
   "execution_count": 104,
   "id": "7c3c0c3d-17bd-4c38-8ffb-2c54c7da3ef9",
   "metadata": {},
   "outputs": [
    {
     "name": "stdout",
     "output_type": "stream",
     "text": [
      "the entered city name is not valid\n"
     ]
    },
    {
     "data": {
      "text/plain": [
       "[]"
      ]
     },
     "execution_count": 104,
     "metadata": {},
     "output_type": "execute_result"
    }
   ],
   "source": [
    "fetch_events(\"ık\")"
   ]
  },
  {
   "cell_type": "code",
   "execution_count": 107,
   "id": "badbecad-5936-4679-905f-7a39e12f51fe",
   "metadata": {},
   "outputs": [
    {
     "name": "stdout",
     "output_type": "stream",
     "text": [
      "{\n",
      "  \"name\": \"Mehmetçik Sahingeri-Ozan Altınbıçak - İkili Stand Up\",\n",
      "  \"genre\": \"Comedy\",\n",
      "  \"segment\": \"Arts & Theatre\",\n",
      "  \"address\": \"Güvenevler, Cinnah Caddesi, Farabi Sk. 39/A, 06690\",\n",
      "  \"city\": \"Ankara\",\n",
      "  \"localdate\": \"2024-02-11\",\n",
      "  \"localtime\": \"20:30:00\",\n",
      "  \"url\": \"https://www.biletix.com/performance/3FM33/001/TURKIYE/tr\"\n",
      "}\n"
     ]
    }
   ],
   "source": [
    "print(fetch_events(\"ankara\")[0])"
   ]
  },
  {
   "cell_type": "code",
   "execution_count": null,
   "id": "f45b53da-89a9-4ff3-931e-d901d6b435bf",
   "metadata": {},
   "outputs": [],
   "source": []
  }
 ],
 "metadata": {
  "kernelspec": {
   "display_name": "Python 3 (ipykernel)",
   "language": "python",
   "name": "python3"
  },
  "language_info": {
   "codemirror_mode": {
    "name": "ipython",
    "version": 3
   },
   "file_extension": ".py",
   "mimetype": "text/x-python",
   "name": "python",
   "nbconvert_exporter": "python",
   "pygments_lexer": "ipython3",
   "version": "3.12.0"
  }
 },
 "nbformat": 4,
 "nbformat_minor": 5
}
