{
 "cells": [
  {
   "cell_type": "markdown",
   "id": "87848d54-f1b5-439a-b38b-b17a9aed3fad",
   "metadata": {},
   "source": [
    "## API"
   ]
  },
  {
   "cell_type": "code",
   "execution_count": 1,
   "id": "4bbf7de4-4e55-44ad-87d6-3cd1a2e37b0c",
   "metadata": {},
   "outputs": [],
   "source": [
    "import requests\n",
    "import json"
   ]
  },
  {
   "cell_type": "code",
   "execution_count": 2,
   "id": "2fa36eda-3ca9-4e58-97f5-ba905d4f20be",
   "metadata": {},
   "outputs": [],
   "source": [
    "def  fetch_events(name_of_city):\n",
    "\n",
    "    url=\"https://app.ticketmaster.com/discovery/v2/events.json?\"\n",
    "    list_of_JSON=[]\n",
    "    parameters={\n",
    "        \"countryCode\":\"TR\",\n",
    "        \"city\":name_of_city,\n",
    "        \"apikey\":\"Ca6RdLJR7N6gvLFEtsJL6TMALZfYzesp\"\n",
    "    }\n",
    "    \n",
    "    response = requests.get(url,parameters)\n",
    "    python_dict = response.json()\n",
    "    \n",
    "    # if entered city name is not valid\n",
    "    if len(python_dict) != 3:\n",
    "        print(\"the entered city name is not valid\")\n",
    "        return[]\n",
    "        \n",
    "    for event in python_dict.get(\"_embedded\").get(\"events\"):\n",
    "        filtered_event = {\n",
    "            \"event_name\": event.get(\"name\"),\n",
    "            \"genre\": event.get(\"classifications\", [{}])[0].get(\"genre\", {}).get(\"name\"),\n",
    "            \"segment\": event.get(\"classifications\", [{}])[0].get(\"segment\", {}).get(\"name\"),\n",
    "            \"address\": event.get(\"_embedded\", {}).get(\"venues\", [{}])[0].get(\"address\", {}).get(\"line1\"),\n",
    "            \"city\": event.get(\"_embedded\", {}).get(\"venues\", [{}])[0].get(\"city\", {}).get(\"name\"),\n",
    "            \"event_date\": event.get(\"dates\", {}).get(\"start\", {}).get(\"localDate\"),\n",
    "            \"event_time\": event.get(\"dates\", {}).get(\"start\", {}).get(\"localTime\"),\n",
    "            \"url\": event.get(\"url\")\n",
    "        }\n",
    "        \n",
    "        list_of_JSON.append(filtered_event)    \n",
    "    \n",
    "    return  list_of_JSON # Json of the listed events and their filtered information"
   ]
  },
  {
   "cell_type": "code",
   "execution_count": 3,
   "id": "7c3c0c3d-17bd-4c38-8ffb-2c54c7da3ef9",
   "metadata": {},
   "outputs": [
    {
     "name": "stdout",
     "output_type": "stream",
     "text": [
      "the entered city name is not valid\n"
     ]
    },
    {
     "data": {
      "text/plain": [
       "[]"
      ]
     },
     "execution_count": 3,
     "metadata": {},
     "output_type": "execute_result"
    }
   ],
   "source": [
    "fetch_events(\"ık\")"
   ]
  },
  {
   "cell_type": "code",
   "execution_count": 4,
   "id": "badbecad-5936-4679-905f-7a39e12f51fe",
   "metadata": {},
   "outputs": [
    {
     "name": "stdout",
     "output_type": "stream",
     "text": [
      "[{'event_name': 'Mehmet Erdem', 'genre': 'Pop', 'segment': 'Music', 'address': 'Urankent Girişi, No: 50', 'city': 'Ankara', 'event_date': '2024-02-24', 'event_time': '20:30:00', 'url': 'https://www.biletix.com/performance/3KY00/001/TURKIYE/tr'}, {'event_name': 'Mezat Şov', 'genre': 'Comedy', 'segment': 'Arts & Theatre', 'address': None, 'city': 'Ankara', 'event_date': '2024-02-24', 'event_time': '21:30:00', 'url': 'https://www.biletix.com/performance/3FM45/002/TURKIYE/tr'}, {'event_name': 'Deniz Alnıtemiz Tek Kişilik Stand Up', 'genre': 'Comedy', 'segment': 'Arts & Theatre', 'address': 'Güvenevler, Cinnah Caddesi, Farabi Sk. 39/A, 06690', 'city': 'Ankara', 'event_date': '2024-02-24', 'event_time': '19:00:00', 'url': 'https://www.biletix.com/performance/3FM41/001/TURKIYE/tr'}, {'event_name': 'Mert Demirliçakmak Stand Up', 'genre': 'Comedy', 'segment': 'Arts & Theatre', 'address': 'Güvenevler, Cinnah Caddesi, Farabi Sk. 39/A, 06690', 'city': 'Ankara', 'event_date': '2024-02-25', 'event_time': '20:00:00', 'url': 'https://www.biletix.com/performance/3FM38/001/TURKIYE/tr'}, {'event_name': 'Mazhar & Fuat', 'genre': 'Pop', 'segment': 'Music', 'address': 'Söğütözü Cad. No:1/A', 'city': 'Ankara', 'event_date': '2024-02-25', 'event_time': '21:00:00', 'url': 'https://www.biletix.com/performance/3DS15/001/TURKIYE/tr'}, {'event_name': \"Walkman 90'lar Türkçe Pop Gecesi\", 'genre': 'Pop', 'segment': 'Music', 'address': 'Kızılırmak Cad. No: 14', 'city': 'Ankara', 'event_date': '2024-02-24', 'event_time': '21:00:00', 'url': 'https://www.biletix.com/performance/3VV10/001/TURKIYE/tr'}, {'event_name': '7 Kocalı Hürmüz', 'genre': 'Theatre', 'segment': 'Arts & Theatre', 'address': 'Maltepe Mahallesi, Müjde Sk. No:14, 06570', 'city': 'Ankara', 'event_date': '2024-02-24', 'event_time': '20:00:00', 'url': 'https://www.biletix.com/performance/3RS37/001/TURKIYE/tr'}, {'event_name': 'Boşanma Teklifi', 'genre': 'Theatre', 'segment': 'Arts & Theatre', 'address': 'İvedik Caddesi Yenimahalle Belediyesi yanı Yenimahalle /Ankara', 'city': 'Ankara', 'event_date': '2024-02-24', 'event_time': '20:30:00', 'url': 'https://www.biletix.com/performance/3CX31/001/TURKIYE/tr'}, {'event_name': 'Piyano & Şan Konseri', 'genre': 'Classical', 'segment': 'Music', 'address': 'Hamam Arkası Sakarya Mah. Basamaklı Sok. No:3', 'city': 'Ankara', 'event_date': '2024-02-24', 'event_time': '18:00:00', 'url': 'https://www.biletix.com/performance/3ZEAL/001/TURKIYE/tr'}, {'event_name': 'Vedat Özdemiroğlu - Murat Meriç Stand Up', 'genre': 'Comedy', 'segment': 'Arts & Theatre', 'address': 'Yeni Batı Mah Şehit Kaymakam Muhammet Fatih Safitürk Bulvarı 58/AE, 06210 Yenimahalle/Ankara', 'city': 'Ankara', 'event_date': '2024-02-24', 'event_time': '20:30:00', 'url': 'https://www.biletix.com/performance/3ZU06/001/TURKIYE/tr'}, {'event_name': 'Yangın', 'genre': 'Alternative', 'segment': 'Music', 'address': 'Kavaklıdere, Bestekar Caddesi No:38, Çankaya/Ankara, Türkiye, Çankaya', 'city': 'Ankara', 'event_date': '2024-02-24', 'event_time': '21:30:00', 'url': 'https://www.biletix.com/performance/3HM07/001/TURKIYE/tr'}, {'event_name': 'Haybeden Gerçeküstü Aşk', 'genre': 'Theatre', 'segment': 'Arts & Theatre', 'address': 'Ergazi Mh Batı Blv Nevadium Konutları Altı', 'city': 'Ankara', 'event_date': '2024-02-25', 'event_time': '20:00:00', 'url': 'https://www.biletix.com/performance/3KYE4/010/TURKIYE/tr'}, {'event_name': 'Haybeden Gerçeküstü Aşk', 'genre': 'Theatre', 'segment': 'Arts & Theatre', 'address': 'Ergazi Mh Batı Blv Nevadium Konutları Altı', 'city': 'Ankara', 'event_date': '2024-02-24', 'event_time': '20:00:00', 'url': 'https://www.biletix.com/performance/3KYE4/001/TURKIYE/tr'}, {'event_name': 'Yaramazlar Sirki Çocuk Tiyatrosu', 'genre': 'Miscellaneous Theatre', 'segment': 'Arts & Theatre', 'address': 'Ergazi Mh Batı Blv Nevadium Konutları Altı', 'city': 'Ankara', 'event_date': '2024-02-25', 'event_time': '16:00:00', 'url': 'https://www.biletix.com/performance/3KYE5/002/TURKIYE/tr'}, {'event_name': 'Yaramazlar Sirki Çocuk Tiyatrosu', 'genre': 'Miscellaneous Theatre', 'segment': 'Arts & Theatre', 'address': 'Ergazi Mh Batı Blv Nevadium Konutları Altı', 'city': 'Ankara', 'event_date': '2024-02-25', 'event_time': '14:00:00', 'url': 'https://www.biletix.com/performance/3KYE5/001/TURKIYE/tr'}, {'event_name': 'Tolga Çandar - Maksat Muhabbet', 'genre': 'Folk', 'segment': 'Music', 'address': 'Urankent Girişi, No: 50', 'city': 'Ankara', 'event_date': '2024-02-24', 'event_time': '20:00:00', 'url': 'https://www.biletix.com/performance/3KYAN/001/TURKIYE/tr'}, {'event_name': 'Bir Delinin Hatıra Defteri - Edip Tüfekçi', 'genre': 'Theatre', 'segment': 'Arts & Theatre', 'address': 'Ergazi Mh Batı Blv Nevadium Konutları Altı', 'city': 'Ankara', 'event_date': '2024-02-25', 'event_time': '20:00:00', 'url': 'https://www.biletix.com/performance/3KYCS/003/TURKIYE/tr'}, {'event_name': 'Çıkın Evimden', 'genre': 'Theatre', 'segment': 'Arts & Theatre', 'address': 'Oran Mah, Panora Alışveriş Ve Yaşam Merkezi 182, Turan Güneş Blv., 06450', 'city': 'Ankara', 'event_date': '2024-02-24', 'event_time': '20:00:00', 'url': 'https://www.biletix.com/performance/3AZ05/004/TURKIYE/tr'}, {'event_name': \"HECCAV yahut Şair Eşref'in Esrareng\", 'genre': 'Theatre', 'segment': 'Arts & Theatre', 'address': 'Bilkent Center', 'city': 'Ankara', 'event_date': '2024-02-24', 'event_time': '20:00:00', 'url': 'https://www.biletix.com/performance/3AS04/001/TURKIYE/tr'}, {'event_name': 'Bir Uzay Hayali', 'genre': 'Theatre', 'segment': 'Arts & Theatre', 'address': 'Emniyet, Gazeteci Yazar Muammer Yaşar Bostancı Sk., 06560', 'city': 'Ankara', 'event_date': '2024-02-24', 'event_time': '14:00:00', 'url': 'https://www.biletix.com/performance/3MJR3/001/TURKIYE/tr'}]\n"
     ]
    }
   ],
   "source": [
    "print(fetch_events(\"ankara\"))"
   ]
  },
  {
   "cell_type": "code",
   "execution_count": 5,
   "id": "f45b53da-89a9-4ff3-931e-d901d6b435bf",
   "metadata": {},
   "outputs": [],
   "source": [
    "import csv"
   ]
  },
  {
   "cell_type": "code",
   "execution_count": 6,
   "id": "c14e72ec-441b-4e16-8c2f-b00736bf2ef6",
   "metadata": {},
   "outputs": [],
   "source": [
    "def convert_to_csv(list_of_json,file_path):\n",
    "            \n",
    "    # Get headers from the first dictionary\n",
    "    headers = list(list_of_json[0].keys())\n",
    "        \n",
    "    # transfer jsons to csv file        \n",
    "    with open(file_path, 'w', newline='') as csvfile:\n",
    "        writer = csv.DictWriter(csvfile, fieldnames=headers)\n",
    "        \n",
    "        # Write headers\n",
    "        writer.writeheader()\n",
    "\n",
    "        # Write JSON data\n",
    "        for item in list_of_json:\n",
    "            writer.writerow(item)"
   ]
  },
  {
   "cell_type": "code",
   "execution_count": 7,
   "id": "dafbed61-d4c3-40af-932e-c1e6b287c18e",
   "metadata": {},
   "outputs": [],
   "source": [
    "convert_to_csv(fetch_events(\"ankara\"),\"lalal.csv\")"
   ]
  },
  {
   "cell_type": "code",
   "execution_count": null,
   "id": "71bc5327-3c80-4e6f-bbc5-098194158f87",
   "metadata": {},
   "outputs": [],
   "source": []
  }
 ],
 "metadata": {
  "kernelspec": {
   "display_name": "Python 3 (ipykernel)",
   "language": "python",
   "name": "python3"
  },
  "language_info": {
   "codemirror_mode": {
    "name": "ipython",
    "version": 3
   },
   "file_extension": ".py",
   "mimetype": "text/x-python",
   "name": "python",
   "nbconvert_exporter": "python",
   "pygments_lexer": "ipython3",
   "version": "3.12.0"
  }
 },
 "nbformat": 4,
 "nbformat_minor": 5
}
