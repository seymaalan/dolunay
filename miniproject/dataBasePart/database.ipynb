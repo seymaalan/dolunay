{
 "cells": [
  {
   "cell_type": "markdown",
   "id": "87848d54-f1b5-439a-b38b-b17a9aed3fad",
   "metadata": {},
   "source": [
    "## API"
   ]
  },
  {
   "cell_type": "code",
   "execution_count": 8,
   "id": "4bbf7de4-4e55-44ad-87d6-3cd1a2e37b0c",
   "metadata": {},
   "outputs": [],
   "source": [
    "import requests\n",
    "import json"
   ]
  },
  {
   "cell_type": "code",
   "execution_count": 9,
   "id": "2fa36eda-3ca9-4e58-97f5-ba905d4f20be",
   "metadata": {},
   "outputs": [],
   "source": [
    "def  fetch_events(name_of_city):\n",
    "\n",
    "    url=\"https://app.ticketmaster.com/discovery/v2/events.json?\"\n",
    "    list_of_JSON=[]\n",
    "    parameters={\n",
    "        \"countryCode\":\"TR\",\n",
    "        \"city\":name_of_city,\n",
    "        \"apikey\":\"Ca6RdLJR7N6gvLFEtsJL6TMALZfYzesp\"\n",
    "    }\n",
    "    \n",
    "    response = requests.get(url,parameters)\n",
    "    python_dict = response.json()\n",
    "    \n",
    "    # if entered city name is not valid\n",
    "    if len(python_dict) != 3:\n",
    "        print(\"the entered city name is not valid\")\n",
    "        return[]\n",
    "        \n",
    "    for event in python_dict.get(\"_embedded\").get(\"events\"):\n",
    "        filtered_event = {\n",
    "            \"event_name\": event.get(\"name\"),\n",
    "            \"genre\": event.get(\"classifications\", [{}])[0].get(\"genre\", {}).get(\"name\"),\n",
    "            \"segment\": event.get(\"classifications\", [{}])[0].get(\"segment\", {}).get(\"name\"),\n",
    "            \"address\": event.get(\"_embedded\", {}).get(\"venues\", [{}])[0].get(\"address\", {}).get(\"line1\"),\n",
    "            \"city\": event.get(\"_embedded\", {}).get(\"venues\", [{}])[0].get(\"city\", {}).get(\"name\"),\n",
    "            \"event_date\": event.get(\"dates\", {}).get(\"start\", {}).get(\"localDate\"),\n",
    "            \"event_time\": event.get(\"dates\", {}).get(\"start\", {}).get(\"localTime\"),\n",
    "            \"url\": event.get(\"url\")\n",
    "        }\n",
    "        \n",
    "        list_of_JSON.append(filtered_event)    \n",
    "    \n",
    "    return  list_of_JSON # Json of the listed events and their filtered information"
   ]
  },
  {
   "cell_type": "code",
   "execution_count": 10,
   "id": "7c3c0c3d-17bd-4c38-8ffb-2c54c7da3ef9",
   "metadata": {},
   "outputs": [
    {
     "name": "stdout",
     "output_type": "stream",
     "text": [
      "the entered city name is not valid\n"
     ]
    },
    {
     "data": {
      "text/plain": [
       "[]"
      ]
     },
     "execution_count": 10,
     "metadata": {},
     "output_type": "execute_result"
    }
   ],
   "source": [
    "fetch_events(\"ık\")"
   ]
  },
  {
   "cell_type": "code",
   "execution_count": 11,
   "id": "badbecad-5936-4679-905f-7a39e12f51fe",
   "metadata": {},
   "outputs": [
    {
     "name": "stdout",
     "output_type": "stream",
     "text": [
      "[{'event_name': 'Piraye', 'genre': 'Theatre', 'segment': 'Arts & Theatre', 'address': 'Oran, Zülfü Tiğrel Cd. No:3, 06450', 'city': 'Ankara', 'event_date': '2024-02-29', 'event_time': '20:00:00', 'url': 'https://www.biletix.com/performance/3ZV36/001/TURKIYE/tr'}, {'event_name': 'Can Güngör', 'genre': 'Rock', 'segment': 'Music', 'address': 'Kavaklıdere, Bestekar Caddesi No:38, Çankaya/Ankara, Türkiye, Çankaya', 'city': 'Ankara', 'event_date': '2024-03-01', 'event_time': '21:30:00', 'url': 'https://www.biletix.com/performance/3HM10/001/TURKIYE/tr'}, {'event_name': 'Eşeğin Gölgesinde', 'genre': 'Theatre', 'segment': 'Arts & Theatre', 'address': 'Bilkent Center', 'city': 'Ankara', 'event_date': '2024-03-01', 'event_time': '20:00:00', 'url': 'https://www.biletix.com/performance/3AS14/001/TURKIYE/tr'}, {'event_name': 'Küvetteki Gelinler', 'genre': 'Theatre', 'segment': 'Arts & Theatre', 'address': 'Güneş Sok. No: 21', 'city': 'Ankara', 'event_date': '2024-02-29', 'event_time': '20:30:00', 'url': 'https://www.biletix.com/performance/36S46/001/TURKIYE/tr'}, {'event_name': 'Lafazans Late Night Stand Up Gecesi', 'genre': 'Comedy', 'segment': 'Arts & Theatre', 'address': 'Kocatepe, Selanik Cd No:67/A, 06420 Çankaya', 'city': 'Ankara', 'event_date': '2024-03-01', 'event_time': '22:30:00', 'url': 'https://www.biletix.com/performance/3FS25/001/TURKIYE/tr'}, {'event_name': 'Necati ve Saykolar', 'genre': 'Rock', 'segment': 'Music', 'address': 'Bahçelievler Mah. Azerbaycan Cad. No:41 Bahçelievler', 'city': 'Ankara', 'event_date': '2024-03-01', 'event_time': '21:30:00', 'url': 'https://www.biletix.com/performance/37R50/001/TURKIYE/tr'}, {'event_name': 'Sincanlı Erkal ile Ankara Gecesi', 'genre': 'Folk', 'segment': 'Music', 'address': 'Kızılırmak Cad. No: 14', 'city': 'Ankara', 'event_date': '2024-03-01', 'event_time': '21:00:00', 'url': 'https://www.biletix.com/performance/3VV32/001/TURKIYE/tr'}, {'event_name': 'Özgür Can Çoban', 'genre': 'Folk', 'segment': 'Music', 'address': 'Kızılırmak Cad. No: 14', 'city': 'Ankara', 'event_date': '2024-03-01', 'event_time': '21:00:00', 'url': 'https://www.biletix.com/performance/3VV20/001/TURKIYE/tr'}, {'event_name': 'Saatleri Ayarlama Enstitüsü', 'genre': 'Theatre', 'segment': 'Arts & Theatre', 'address': 'Söğütözü Cad. No:1/A', 'city': 'Ankara', 'event_date': '2024-03-01', 'event_time': '20:00:00', 'url': 'https://www.biletix.com/performance/3PN22/001/TURKIYE/tr'}, {'event_name': 'Saatleri Ayarlama Enstitüsü', 'genre': 'Theatre', 'segment': 'Arts & Theatre', 'address': 'Söğütözü Cad. No:1/A', 'city': 'Ankara', 'event_date': '2024-02-29', 'event_time': '20:00:00', 'url': 'https://www.biletix.com/performance/3PN12/001/TURKIYE/tr'}, {'event_name': 'Fosforlu Cevriye', 'genre': 'Theatre', 'segment': 'Arts & Theatre', 'address': 'Emniyet, Gazeteci Yazar Muammer Yaşar Bostancı Sk., 06560', 'city': 'Ankara', 'event_date': '2024-03-01', 'event_time': '20:00:00', 'url': 'https://www.biletix.com/performance/3RS43/001/TURKIYE/tr'}, {'event_name': '7 Kocalı Hürmüz', 'genre': 'Theatre', 'segment': 'Arts & Theatre', 'address': 'İvedik Caddesi Yenimahalle Belediyesi yanı Yenimahalle /Ankara', 'city': 'Ankara', 'event_date': '2024-02-29', 'event_time': '20:00:00', 'url': 'https://www.biletix.com/performance/3RS20/001/TURKIYE/tr'}, {'event_name': 'Selin Körükoğlu', 'genre': 'Alternative', 'segment': 'Music', 'address': None, 'city': 'Ankara', 'event_date': '2024-02-29', 'event_time': '21:00:00', 'url': 'https://www.biletix.com/performance/3RX24/001/TURKIYE/tr'}, {'event_name': 'Kopil', 'genre': 'Alternative', 'segment': 'Music', 'address': None, 'city': 'Ankara', 'event_date': '2024-02-29', 'event_time': '21:00:00', 'url': 'https://www.biletix.com/performance/3RX36/001/TURKIYE/tr'}, {'event_name': 'Kamufle \"Tüm Suç Ritimlerin\" Albüm Lansman Konseri', 'genre': 'Hip-Hop/Rap', 'segment': 'Music', 'address': 'Kavaklıdere, Bestekar Caddesi No:38, Çankaya/Ankara, Türkiye, Çankaya', 'city': 'Ankara', 'event_date': '2024-03-01', 'event_time': '21:30:00', 'url': 'https://www.biletix.com/performance/3HM03/001/TURKIYE/tr'}, {'event_name': 'Deniz Tekin - Yüzyıllardır Aynı Dert - Ankara Albüm Lansman Konseri', 'genre': 'Rock', 'segment': 'Music', 'address': 'Tunus Cad. No:66 Kavaklıdere', 'city': 'Ankara', 'event_date': '2024-02-29', 'event_time': '22:00:00', 'url': 'https://www.biletix.com/performance/3HM01/001/TURKIYE/tr'}, {'event_name': 'Bir İdam Mahkumunun Son Günü', 'genre': 'Theatre', 'segment': 'Arts & Theatre', 'address': 'Ergazi Mh Batı Blv Nevadium Konutları Altı', 'city': 'Ankara', 'event_date': '2024-02-29', 'event_time': '20:00:00', 'url': 'https://www.biletix.com/performance/3KYCT/005/TURKIYE/tr'}, {'event_name': 'Çıkın Evimden', 'genre': 'Theatre', 'segment': 'Arts & Theatre', 'address': 'Koru, 2432. Cd. No:192, 06810', 'city': 'Ankara', 'event_date': '2024-02-29', 'event_time': '20:00:00', 'url': 'https://www.biletix.com/performance/3AZ08/005/TURKIYE/tr'}, {'event_name': 'Kaan Sekban Stand Up', 'genre': 'Comedy', 'segment': 'Arts & Theatre', 'address': 'Emniyet, Gazeteci Yazar Muammer Yaşar Bostancı Sk., 06560', 'city': 'Ankara', 'event_date': '2024-02-29', 'event_time': '20:30:00', 'url': 'https://www.biletix.com/performance/3MV02/001/TURKIYE/tr'}, {'event_name': 'Barok Konseri - Ayten Hanalioğlu, Hilal Tapan & Ayça Yılmaz', 'genre': None, 'segment': 'Music', 'address': 'Nilgün Sokak, 14/2', 'city': 'Ankara', 'event_date': '2024-03-01', 'event_time': '20:00:00', 'url': 'https://www.biletix.com/performance/3IG07/001/TURKIYE/tr'}]\n"
     ]
    }
   ],
   "source": [
    "print(fetch_events(\"ankara\"))"
   ]
  },
  {
   "cell_type": "code",
   "execution_count": 12,
   "id": "f45b53da-89a9-4ff3-931e-d901d6b435bf",
   "metadata": {},
   "outputs": [],
   "source": [
    "import csv"
   ]
  },
  {
   "cell_type": "code",
   "execution_count": 13,
   "id": "c14e72ec-441b-4e16-8c2f-b00736bf2ef6",
   "metadata": {},
   "outputs": [],
   "source": [
    "def convert_to_csv(list_of_json,file_path):\n",
    "            \n",
    "    # Get headers from the first dictionary\n",
    "    headers = list(list_of_json[0].keys())\n",
    "        \n",
    "    # transfer jsons to csv file        \n",
    "    with open(file_path, 'w', newline='') as csvfile:\n",
    "        writer = csv.DictWriter(csvfile, fieldnames=headers)\n",
    "        \n",
    "        # Write headers\n",
    "        writer.writeheader()\n",
    "\n",
    "        # Write JSON data\n",
    "        for item in list_of_json:\n",
    "            writer.writerow(item)"
   ]
  },
  {
   "cell_type": "code",
   "execution_count": 14,
   "id": "dafbed61-d4c3-40af-932e-c1e6b287c18e",
   "metadata": {},
   "outputs": [],
   "source": [
    "convert_to_csv(fetch_events(\"ankara\"),\"ankaraEvents.csv\")"
   ]
  },
  {
   "cell_type": "code",
   "execution_count": null,
   "id": "71bc5327-3c80-4e6f-bbc5-098194158f87",
   "metadata": {},
   "outputs": [],
   "source": []
  }
 ],
 "metadata": {
  "kernelspec": {
   "display_name": "Python 3 (ipykernel)",
   "language": "python",
   "name": "python3"
  },
  "language_info": {
   "codemirror_mode": {
    "name": "ipython",
    "version": 3
   },
   "file_extension": ".py",
   "mimetype": "text/x-python",
   "name": "python",
   "nbconvert_exporter": "python",
   "pygments_lexer": "ipython3",
   "version": "3.12.0"
  }
 },
 "nbformat": 4,
 "nbformat_minor": 5
}
